{
 "cells": [
  {
   "cell_type": "code",
   "execution_count": 19,
   "id": "83b682f2",
   "metadata": {},
   "outputs": [],
   "source": [
    "#Import packages\n",
    "import os #Allows us to get operating system information in python.\n",
    "#In artemis video, he did not import os package\n",
    "\n",
    "#Data Handling\n",
    "import pandas as pd, numpy as np\n",
    "\n",
    "#Time\n",
    "import time\n",
    "\n",
    "#Plotting\n",
    "import matplotlib.pyplot as plt, seaborn as sns, scipy.stats, pylab\n",
    "\n",
    "#Saving data\n",
    "import pickle\n",
    "\n",
    "#train and test split\n",
    "from sklearn.model_selection import train_test_split\n",
    "\n",
    "#Scalers\n",
    "from sklearn import preprocessing\n",
    "\n",
    "#TomekLinks and RandomUnderSampler\n",
    "from imblearn.under_sampling import TomekLinks, RandomUnderSampler\n",
    "\n",
    "#Hyperparameter optimization\n",
    "import optuna\n",
    "\n",
    "#Visualize ML algorithm features\n",
    "import shap\n",
    "\n",
    "#Metrics\n",
    "from sklearn.metrics import f1_score, balanced_accuracy_score, recall_score, roc_auc_score, ConfusionMatrixDisplay\n",
    "\n",
    "#General Management\n",
    "import gc as gc\n",
    "gc.enable()\n",
    "from joblib import dump, load\n",
    "from warnings import filterwarnings\n",
    "\n",
    "#Notebook configurations\n",
    "filterwarnings('ignore')"
   ]
  },
  {
   "cell_type": "code",
   "execution_count": 2,
   "id": "adff2695",
   "metadata": {},
   "outputs": [],
   "source": [
    "#FINAL MODELS \n",
    "from sklearn.ensemble import RandomForestClassifier\n",
    "from sklearn.naive_bayes import GaussianNB"
   ]
  },
  {
   "cell_type": "code",
   "execution_count": 3,
   "id": "89e0240f",
   "metadata": {},
   "outputs": [],
   "source": [
    "#IMPORT ORIGINAL DATA\n",
    "f = open('CCF_ProcessedData.pckl','rb')\n",
    "pickle_list = pickle.load(f)\n",
    "f.close()\n",
    "\n",
    "tomek_modeling_data = pickle_list[0]\n",
    "y = pickle_list[1]\n",
    "rus_tomek_modeling_data = pickle_list[2]\n",
    "y2 = pickle_list[3]\n",
    "test = pickle_list[4] #The most important variable we are importing in this script"
   ]
  },
  {
   "cell_type": "code",
   "execution_count": 4,
   "id": "e5e609a3",
   "metadata": {},
   "outputs": [],
   "source": [
    "#IMPORT THE DATA THAT WE WILL USE TO TRAIN FINAL MODELS BEFORE TESTING ON TEST DATA\n",
    "def get_tomek_data():\n",
    "    f = open('tomek_data.pckl','rb')\n",
    "    data = pickle.load(f)\n",
    "    f.close()\n",
    "    return data\n",
    "\n",
    "def get_rus_data():\n",
    "    f = open('rus_data.pckl','rb')\n",
    "    data = pickle.load(f)\n",
    "    f.close()\n",
    "    return data"
   ]
  },
  {
   "cell_type": "markdown",
   "id": "3e5fddc5",
   "metadata": {},
   "source": [
    "### FINAL MODEL FOR TOMEK DATA \n",
    "Gaussian Naïve Bayes with varsmoothing = 9.125860889745052 * (10**-9)"
   ]
  },
  {
   "cell_type": "code",
   "execution_count": 5,
   "id": "1dc27248",
   "metadata": {},
   "outputs": [],
   "source": [
    "tomek_data = get_tomek_data() #import tomek data that's been split up into train and dev sets\n",
    "tomek_X_train = tomek_data[0]\n",
    "tomek_X_dev = tomek_data[1]\n",
    "tomek_y_train = tomek_data[2]\n",
    "tomek_y_dev = tomek_data[3]\n",
    "\n",
    "#Get the final model ready\n",
    "vs_final = 9.125860889745052 * (10**-9)\n",
    "fmodel_tomek = GaussianNB(var_smoothing=vs_final)"
   ]
  },
  {
   "cell_type": "code",
   "execution_count": 6,
   "id": "fe2205d5",
   "metadata": {},
   "outputs": [
    {
     "data": {
      "text/plain": [
       "GaussianNB(var_smoothing=9.125860889745052e-09)"
      ]
     },
     "execution_count": 6,
     "metadata": {},
     "output_type": "execute_result"
    }
   ],
   "source": [
    "fmodel_tomek.fit(tomek_X_train,tomek_y_train)"
   ]
  },
  {
   "cell_type": "code",
   "execution_count": 7,
   "id": "f8819f89",
   "metadata": {},
   "outputs": [
    {
     "name": "stdout",
     "output_type": "stream",
     "text": [
      "Recall of Final Tomek Model: 0.998\n",
      "F1 Score of Final Tomek Model: 0.005\n",
      "Balanced Accuracy Score of Final Tomek Model: 0.73\n"
     ]
    }
   ],
   "source": [
    "recall_tomek = round(recall_score(tomek_y_dev,fmodel_tomek.predict(tomek_X_dev)),3)\n",
    "f1_tomek = round(f1_score(y_true=tomek_y_dev, y_pred=fmodel_tomek.predict(tomek_X_dev)),3)\n",
    "bacc_tomek = round(balanced_accuracy_score(tomek_y_dev, y_pred=fmodel_tomek.predict(tomek_X_dev)),3)\n",
    "\n",
    "print(\"Recall of Final Tomek Model: {}\".format(recall_tomek))\n",
    "print(\"F1 Score of Final Tomek Model: {}\".format(f1_tomek))\n",
    "print('Balanced Accuracy Score of Final Tomek Model: {}'.format(bacc_tomek))\n"
   ]
  },
  {
   "cell_type": "markdown",
   "id": "2ddd538f",
   "metadata": {},
   "source": [
    "### FINAL MODEL FOR TOMEK+RUS DATA \n",
    "Random Forest Classifier with the following parameters:\n",
    " 'rfc_num_exp': 3,\n",
    " 'rfc_num_base': 9.8410100557842,\n",
    " 'rfc_maxdepth': 5,\n",
    " 'rfc_ml_exp': 3,\n",
    " 'rfc_ml_base': 9.56629896082272,\n",
    " 'rfc_bootstrap': True,\n",
    " 'rfc_maxsamples': 0.9767807421240824"
   ]
  },
  {
   "cell_type": "code",
   "execution_count": 7,
   "id": "d55e09af",
   "metadata": {},
   "outputs": [],
   "source": [
    "rus_data = get_rus_data() #import tomek+rus data that's been split up into train and dev sets\n",
    "rus_X_train = rus_data[0]\n",
    "rus_X_dev = rus_data[1]\n",
    "rus_y_train = rus_data[2]\n",
    "rus_y_dev = rus_data[3]\n",
    "\n",
    "#FINAL VALUES\n",
    "rfc_num = 9841\n",
    "rfc_maxdepth = 5\n",
    "rfc_minleaf = 9566\n",
    "rfc_bootstrap = True\n",
    "rfc_maxsamples = 0.9767807421240824\n",
    "\n",
    "fmodel_rus = RandomForestClassifier(n_estimators=rfc_num, max_depth=rfc_maxdepth,\n",
    "                                   min_samples_leaf=rfc_minleaf, bootstrap=rfc_bootstrap,\n",
    "                                   max_samples=rfc_maxsamples, random_state=10)"
   ]
  },
  {
   "cell_type": "code",
   "execution_count": 8,
   "id": "dd32e174",
   "metadata": {},
   "outputs": [
    {
     "data": {
      "text/plain": [
       "RandomForestClassifier(max_depth=5, max_samples=0.9767807421240824,\n",
       "                       min_samples_leaf=9566, n_estimators=9841,\n",
       "                       random_state=10)"
      ]
     },
     "execution_count": 8,
     "metadata": {},
     "output_type": "execute_result"
    }
   ],
   "source": [
    "fmodel_rus.fit(rus_X_train,rus_y_train)"
   ]
  },
  {
   "cell_type": "code",
   "execution_count": 10,
   "id": "e62a2776",
   "metadata": {},
   "outputs": [
    {
     "name": "stdout",
     "output_type": "stream",
     "text": [
      "Recall of Final Tomek+RUS Model: 1.0\n",
      "F1 Score of Final Tomek+RUS Model: 0.667\n",
      "Balanced Accuracy Score of Final Tomek+RUS Model: 0.5\n"
     ]
    }
   ],
   "source": [
    "recall_rus = round(recall_score(rus_y_dev,fmodel_rus.predict(rus_X_dev)),3)\n",
    "f1_rus = round(f1_score(y_true=rus_y_dev, y_pred=fmodel_rus.predict(rus_X_dev)),3)\n",
    "bacc_rus = round(balanced_accuracy_score(rus_y_dev, y_pred=fmodel_rus.predict(rus_X_dev)),3)\n",
    "\n",
    "print(\"Recall of Final Tomek+RUS Model: {}\".format(recall_rus))\n",
    "print(\"F1 Score of Final Tomek+RUS Model: {}\".format(f1_rus))\n",
    "print('Balanced Accuracy Score of Final Tomek+RUS Model: {}'.format(bacc_rus))"
   ]
  },
  {
   "cell_type": "markdown",
   "id": "ab7f60e2",
   "metadata": {},
   "source": [
    "## SAVE THE FINAL MODELS"
   ]
  },
  {
   "cell_type": "code",
   "execution_count": 23,
   "id": "9f0d49ba",
   "metadata": {},
   "outputs": [],
   "source": [
    "pickle_list = [fmodel_tomek,fmodel_rus]\n",
    "f = open('FinalModels.pckl','wb')\n",
    "pickle.dump(pickle_list,f)\n",
    "f.close()"
   ]
  },
  {
   "cell_type": "markdown",
   "id": "7f7d6c39",
   "metadata": {},
   "source": [
    "# TEST DATA "
   ]
  },
  {
   "cell_type": "code",
   "execution_count": 9,
   "id": "28076a2e",
   "metadata": {
    "scrolled": true
   },
   "outputs": [],
   "source": [
    "#Grab the column order of the training data for later\n",
    "\n",
    "#test.head(10)\n",
    "#test.dtypes\n",
    "#test.shape\n",
    "\n",
    "final_col_order = tomek_X_train.columns"
   ]
  },
  {
   "cell_type": "markdown",
   "id": "649c746b",
   "metadata": {},
   "source": [
    "### STEP 1 CHANGE THE DATA TYPES + OTHER STUFF"
   ]
  },
  {
   "cell_type": "code",
   "execution_count": 10,
   "id": "ed075374",
   "metadata": {},
   "outputs": [],
   "source": [
    "#First, lets do the basics and grab the num columns, cat columns, and labels for the data\n",
    "test_y = test['isFraud']\n",
    "test_y = pd.DataFrame(test_y,columns=['isFraud']).astype('int') \n",
    "#Drop the isFraud column\n",
    "test.drop('isFraud',axis=1,inplace=True)\n",
    "\n",
    "test_numerical_columns = [x for x in test.columns if test[x].dtype != 'object' and x != 'isFraud' and x != 'step']\n",
    "test_categorical_columns = [x for x in test.columns if x not in test_numerical_columns and x!='isFraud']"
   ]
  },
  {
   "cell_type": "markdown",
   "id": "66b3696f",
   "metadata": {},
   "source": [
    "### STEP 2 TRANSFORM THE DATA"
   ]
  },
  {
   "cell_type": "code",
   "execution_count": 11,
   "id": "cb7fe608",
   "metadata": {
    "scrolled": true
   },
   "outputs": [
    {
     "data": {
      "text/html": [
       "<div>\n",
       "<style scoped>\n",
       "    .dataframe tbody tr th:only-of-type {\n",
       "        vertical-align: middle;\n",
       "    }\n",
       "\n",
       "    .dataframe tbody tr th {\n",
       "        vertical-align: top;\n",
       "    }\n",
       "\n",
       "    .dataframe thead th {\n",
       "        text-align: right;\n",
       "    }\n",
       "</style>\n",
       "<table border=\"1\" class=\"dataframe\">\n",
       "  <thead>\n",
       "    <tr style=\"text-align: right;\">\n",
       "      <th></th>\n",
       "      <th>type</th>\n",
       "      <th>amount</th>\n",
       "      <th>nameOrig</th>\n",
       "      <th>oldbalanceOrig</th>\n",
       "      <th>newbalanceOrig</th>\n",
       "      <th>nameDest</th>\n",
       "      <th>oldbalanceDest</th>\n",
       "      <th>newbalanceDest</th>\n",
       "    </tr>\n",
       "  </thead>\n",
       "  <tbody>\n",
       "    <tr>\n",
       "      <th>0</th>\n",
       "      <td>PAYMENT</td>\n",
       "      <td>1196.56</td>\n",
       "      <td>C667413222</td>\n",
       "      <td>11773.02</td>\n",
       "      <td>10576.47</td>\n",
       "      <td>M1671085229</td>\n",
       "      <td>0.00</td>\n",
       "      <td>0.00</td>\n",
       "    </tr>\n",
       "    <tr>\n",
       "      <th>1</th>\n",
       "      <td>PAYMENT</td>\n",
       "      <td>17978.48</td>\n",
       "      <td>C576954285</td>\n",
       "      <td>52372.86</td>\n",
       "      <td>34394.39</td>\n",
       "      <td>M25637026</td>\n",
       "      <td>0.00</td>\n",
       "      <td>0.00</td>\n",
       "    </tr>\n",
       "    <tr>\n",
       "      <th>2</th>\n",
       "      <td>CASH_OUT</td>\n",
       "      <td>45902.16</td>\n",
       "      <td>C1297817053</td>\n",
       "      <td>341.00</td>\n",
       "      <td>0.00</td>\n",
       "      <td>C289286626</td>\n",
       "      <td>1995692.55</td>\n",
       "      <td>2041594.71</td>\n",
       "    </tr>\n",
       "    <tr>\n",
       "      <th>3</th>\n",
       "      <td>CASH_OUT</td>\n",
       "      <td>124490.28</td>\n",
       "      <td>C864011357</td>\n",
       "      <td>103679.00</td>\n",
       "      <td>0.00</td>\n",
       "      <td>C450289878</td>\n",
       "      <td>205868.90</td>\n",
       "      <td>330359.18</td>\n",
       "    </tr>\n",
       "    <tr>\n",
       "      <th>4</th>\n",
       "      <td>CASH_OUT</td>\n",
       "      <td>197171.59</td>\n",
       "      <td>C1454967690</td>\n",
       "      <td>0.00</td>\n",
       "      <td>0.00</td>\n",
       "      <td>C1048883071</td>\n",
       "      <td>397656.96</td>\n",
       "      <td>594828.55</td>\n",
       "    </tr>\n",
       "    <tr>\n",
       "      <th>5</th>\n",
       "      <td>PAYMENT</td>\n",
       "      <td>782.27</td>\n",
       "      <td>C1075029826</td>\n",
       "      <td>0.00</td>\n",
       "      <td>0.00</td>\n",
       "      <td>M2021412368</td>\n",
       "      <td>0.00</td>\n",
       "      <td>0.00</td>\n",
       "    </tr>\n",
       "    <tr>\n",
       "      <th>6</th>\n",
       "      <td>CASH_IN</td>\n",
       "      <td>168252.45</td>\n",
       "      <td>C900644650</td>\n",
       "      <td>292159.65</td>\n",
       "      <td>460412.10</td>\n",
       "      <td>C1344105048</td>\n",
       "      <td>490679.31</td>\n",
       "      <td>322426.86</td>\n",
       "    </tr>\n",
       "    <tr>\n",
       "      <th>7</th>\n",
       "      <td>CASH_OUT</td>\n",
       "      <td>1382.36</td>\n",
       "      <td>C1663808065</td>\n",
       "      <td>0.00</td>\n",
       "      <td>0.00</td>\n",
       "      <td>C42847118</td>\n",
       "      <td>99275.94</td>\n",
       "      <td>100658.29</td>\n",
       "    </tr>\n",
       "    <tr>\n",
       "      <th>8</th>\n",
       "      <td>CASH_OUT</td>\n",
       "      <td>3658.95</td>\n",
       "      <td>C624361723</td>\n",
       "      <td>0.00</td>\n",
       "      <td>0.00</td>\n",
       "      <td>C1318673216</td>\n",
       "      <td>1011338.73</td>\n",
       "      <td>1014997.69</td>\n",
       "    </tr>\n",
       "    <tr>\n",
       "      <th>9</th>\n",
       "      <td>PAYMENT</td>\n",
       "      <td>5045.14</td>\n",
       "      <td>C915578899</td>\n",
       "      <td>16016.00</td>\n",
       "      <td>10970.86</td>\n",
       "      <td>M591114958</td>\n",
       "      <td>0.00</td>\n",
       "      <td>0.00</td>\n",
       "    </tr>\n",
       "  </tbody>\n",
       "</table>\n",
       "</div>"
      ],
      "text/plain": [
       "       type     amount     nameOrig  oldbalanceOrig  newbalanceOrig  \\\n",
       "0   PAYMENT    1196.56   C667413222        11773.02        10576.47   \n",
       "1   PAYMENT   17978.48   C576954285        52372.86        34394.39   \n",
       "2  CASH_OUT   45902.16  C1297817053          341.00            0.00   \n",
       "3  CASH_OUT  124490.28   C864011357       103679.00            0.00   \n",
       "4  CASH_OUT  197171.59  C1454967690            0.00            0.00   \n",
       "5   PAYMENT     782.27  C1075029826            0.00            0.00   \n",
       "6   CASH_IN  168252.45   C900644650       292159.65       460412.10   \n",
       "7  CASH_OUT    1382.36  C1663808065            0.00            0.00   \n",
       "8  CASH_OUT    3658.95   C624361723            0.00            0.00   \n",
       "9   PAYMENT    5045.14   C915578899        16016.00        10970.86   \n",
       "\n",
       "      nameDest  oldbalanceDest  newbalanceDest  \n",
       "0  M1671085229            0.00            0.00  \n",
       "1    M25637026            0.00            0.00  \n",
       "2   C289286626      1995692.55      2041594.71  \n",
       "3   C450289878       205868.90       330359.18  \n",
       "4  C1048883071       397656.96       594828.55  \n",
       "5  M2021412368            0.00            0.00  \n",
       "6  C1344105048       490679.31       322426.86  \n",
       "7    C42847118        99275.94       100658.29  \n",
       "8  C1318673216      1011338.73      1014997.69  \n",
       "9   M591114958            0.00            0.00  "
      ]
     },
     "execution_count": 11,
     "metadata": {},
     "output_type": "execute_result"
    }
   ],
   "source": [
    "#Also lets import the OneHotEncoder from the previous script\n",
    "f = open('OHE.pckl','rb')\n",
    "pickle_list = pickle.load(f)\n",
    "f.close()\n",
    "ohe = pickle_list[0]\n",
    "\n",
    "#Get rid of the step column\n",
    "test.drop('step',axis=1,inplace=True)\n",
    "test.head(10)"
   ]
  },
  {
   "cell_type": "markdown",
   "id": "e7ca9302",
   "metadata": {},
   "source": [
    "#### NUMERICAL COLUMNS"
   ]
  },
  {
   "cell_type": "code",
   "execution_count": 12,
   "id": "c10e191b",
   "metadata": {},
   "outputs": [
    {
     "data": {
      "text/html": [
       "<div>\n",
       "<style scoped>\n",
       "    .dataframe tbody tr th:only-of-type {\n",
       "        vertical-align: middle;\n",
       "    }\n",
       "\n",
       "    .dataframe tbody tr th {\n",
       "        vertical-align: top;\n",
       "    }\n",
       "\n",
       "    .dataframe thead th {\n",
       "        text-align: right;\n",
       "    }\n",
       "</style>\n",
       "<table border=\"1\" class=\"dataframe\">\n",
       "  <thead>\n",
       "    <tr style=\"text-align: right;\">\n",
       "      <th></th>\n",
       "      <th>amount_4root</th>\n",
       "      <th>oldbalanceOrig_4root</th>\n",
       "      <th>newbalanceOrig_4root</th>\n",
       "      <th>oldbalanceDest_4root</th>\n",
       "      <th>newbalanceDest_4root</th>\n",
       "      <th>type</th>\n",
       "      <th>nameOrig</th>\n",
       "      <th>nameDest</th>\n",
       "    </tr>\n",
       "  </thead>\n",
       "  <tbody>\n",
       "    <tr>\n",
       "      <th>0</th>\n",
       "      <td>5.881439</td>\n",
       "      <td>10.416504</td>\n",
       "      <td>10.141103</td>\n",
       "      <td>0.000000</td>\n",
       "      <td>0.000000</td>\n",
       "      <td>PAYMENT</td>\n",
       "      <td>C667413222</td>\n",
       "      <td>M1671085229</td>\n",
       "    </tr>\n",
       "    <tr>\n",
       "      <th>1</th>\n",
       "      <td>11.579458</td>\n",
       "      <td>15.127828</td>\n",
       "      <td>13.618269</td>\n",
       "      <td>0.000000</td>\n",
       "      <td>0.000000</td>\n",
       "      <td>PAYMENT</td>\n",
       "      <td>C576954285</td>\n",
       "      <td>M25637026</td>\n",
       "    </tr>\n",
       "    <tr>\n",
       "      <th>2</th>\n",
       "      <td>14.637209</td>\n",
       "      <td>4.297230</td>\n",
       "      <td>0.000000</td>\n",
       "      <td>37.585766</td>\n",
       "      <td>37.800051</td>\n",
       "      <td>CASH_OUT</td>\n",
       "      <td>C1297817053</td>\n",
       "      <td>C289286626</td>\n",
       "    </tr>\n",
       "    <tr>\n",
       "      <th>3</th>\n",
       "      <td>18.783818</td>\n",
       "      <td>17.944142</td>\n",
       "      <td>0.000000</td>\n",
       "      <td>21.300887</td>\n",
       "      <td>23.974336</td>\n",
       "      <td>CASH_OUT</td>\n",
       "      <td>C864011357</td>\n",
       "      <td>C450289878</td>\n",
       "    </tr>\n",
       "    <tr>\n",
       "      <th>4</th>\n",
       "      <td>21.072258</td>\n",
       "      <td>0.000000</td>\n",
       "      <td>0.000000</td>\n",
       "      <td>25.111760</td>\n",
       "      <td>27.771411</td>\n",
       "      <td>CASH_OUT</td>\n",
       "      <td>C1454967690</td>\n",
       "      <td>C1048883071</td>\n",
       "    </tr>\n",
       "    <tr>\n",
       "      <th>5</th>\n",
       "      <td>5.288581</td>\n",
       "      <td>0.000000</td>\n",
       "      <td>0.000000</td>\n",
       "      <td>0.000000</td>\n",
       "      <td>0.000000</td>\n",
       "      <td>PAYMENT</td>\n",
       "      <td>C1075029826</td>\n",
       "      <td>M2021412368</td>\n",
       "    </tr>\n",
       "    <tr>\n",
       "      <th>6</th>\n",
       "      <td>20.253046</td>\n",
       "      <td>23.249042</td>\n",
       "      <td>26.048738</td>\n",
       "      <td>26.466678</td>\n",
       "      <td>23.829109</td>\n",
       "      <td>CASH_IN</td>\n",
       "      <td>C900644650</td>\n",
       "      <td>C1344105048</td>\n",
       "    </tr>\n",
       "    <tr>\n",
       "      <th>7</th>\n",
       "      <td>6.097549</td>\n",
       "      <td>0.000000</td>\n",
       "      <td>0.000000</td>\n",
       "      <td>17.750517</td>\n",
       "      <td>17.811988</td>\n",
       "      <td>CASH_OUT</td>\n",
       "      <td>C1663808065</td>\n",
       "      <td>C42847118</td>\n",
       "    </tr>\n",
       "    <tr>\n",
       "      <th>8</th>\n",
       "      <td>7.777484</td>\n",
       "      <td>0.000000</td>\n",
       "      <td>0.000000</td>\n",
       "      <td>31.712038</td>\n",
       "      <td>31.740683</td>\n",
       "      <td>CASH_OUT</td>\n",
       "      <td>C624361723</td>\n",
       "      <td>C1318673216</td>\n",
       "    </tr>\n",
       "    <tr>\n",
       "      <th>9</th>\n",
       "      <td>8.427879</td>\n",
       "      <td>11.249637</td>\n",
       "      <td>10.234348</td>\n",
       "      <td>0.000000</td>\n",
       "      <td>0.000000</td>\n",
       "      <td>PAYMENT</td>\n",
       "      <td>C915578899</td>\n",
       "      <td>M591114958</td>\n",
       "    </tr>\n",
       "  </tbody>\n",
       "</table>\n",
       "</div>"
      ],
      "text/plain": [
       "   amount_4root  oldbalanceOrig_4root  newbalanceOrig_4root  \\\n",
       "0      5.881439             10.416504             10.141103   \n",
       "1     11.579458             15.127828             13.618269   \n",
       "2     14.637209              4.297230              0.000000   \n",
       "3     18.783818             17.944142              0.000000   \n",
       "4     21.072258              0.000000              0.000000   \n",
       "5      5.288581              0.000000              0.000000   \n",
       "6     20.253046             23.249042             26.048738   \n",
       "7      6.097549              0.000000              0.000000   \n",
       "8      7.777484              0.000000              0.000000   \n",
       "9      8.427879             11.249637             10.234348   \n",
       "\n",
       "   oldbalanceDest_4root  newbalanceDest_4root      type     nameOrig  \\\n",
       "0              0.000000              0.000000   PAYMENT   C667413222   \n",
       "1              0.000000              0.000000   PAYMENT   C576954285   \n",
       "2             37.585766             37.800051  CASH_OUT  C1297817053   \n",
       "3             21.300887             23.974336  CASH_OUT   C864011357   \n",
       "4             25.111760             27.771411  CASH_OUT  C1454967690   \n",
       "5              0.000000              0.000000   PAYMENT  C1075029826   \n",
       "6             26.466678             23.829109   CASH_IN   C900644650   \n",
       "7             17.750517             17.811988  CASH_OUT  C1663808065   \n",
       "8             31.712038             31.740683  CASH_OUT   C624361723   \n",
       "9              0.000000              0.000000   PAYMENT   C915578899   \n",
       "\n",
       "      nameDest  \n",
       "0  M1671085229  \n",
       "1    M25637026  \n",
       "2   C289286626  \n",
       "3   C450289878  \n",
       "4  C1048883071  \n",
       "5  M2021412368  \n",
       "6  C1344105048  \n",
       "7    C42847118  \n",
       "8  C1318673216  \n",
       "9   M591114958  "
      ]
     },
     "execution_count": 12,
     "metadata": {},
     "output_type": "execute_result"
    }
   ],
   "source": [
    "#amount\n",
    "test['amount_4root'] = test['amount']**(1/4)\n",
    "#oldbalanceOrig\n",
    "test['oldbalanceOrig_4root'] = test['oldbalanceOrig']**(1/4)\n",
    "#newbalanceOrig\n",
    "test['newbalanceOrig_4root'] = test['newbalanceOrig']**(1/4)\n",
    "#oldbalanceDest\n",
    "test['oldbalanceDest_4root'] = test['oldbalanceDest']**(1/4)\n",
    "#newbalanceDest\n",
    "test['newbalanceDest_4root'] = test['newbalanceDest']**(1/4)\n",
    "\n",
    "# new_cols = train2.columns.tolist()\n",
    "# new_cols = new_cols[-5:] + new_cols[:-5]\n",
    "# train = train2[new_cols]\n",
    "\n",
    "#Lets remove the old columns\n",
    "test.drop(test_numerical_columns,axis=1,inplace=True)\n",
    "#Reorganize the order of the columns\n",
    "new_cols = test.columns.tolist()\n",
    "new_cols = new_cols[-5:] + new_cols[:-5]\n",
    "test = test[new_cols]\n",
    "#Double check the columns are in the right order\n",
    "test.head(10)"
   ]
  },
  {
   "cell_type": "markdown",
   "id": "b5bfa4c6",
   "metadata": {},
   "source": [
    "#### CATEGORICAL COLUMNS"
   ]
  },
  {
   "cell_type": "code",
   "execution_count": 21,
   "id": "ba648eed",
   "metadata": {
    "code_folding": [
     0
    ]
   },
   "outputs": [
    {
     "data": {
      "text/plain": [
       "Index(['CASH_OUT', 'PAYMENT', 'CASH_IN', 'TRANSFER', 'DEBIT'], dtype='object')"
      ]
     },
     "execution_count": 21,
     "metadata": {},
     "output_type": "execute_result"
    }
   ],
   "source": [
    "#TESTING\n",
    "# print(test['type'].value_counts())\n",
    "#test['type'].value_counts().index\n",
    "\n",
    "# X_encode = pd.DataFrame(data=ohe.transform(test['type'].array.reshape(-1,1)),columns=ohe.get_feature_names_out())\n",
    "# print(X_encode.sum(axis=0))"
   ]
  },
  {
   "cell_type": "code",
   "execution_count": 13,
   "id": "cc07d97c",
   "metadata": {},
   "outputs": [],
   "source": [
    "#Encode the type variable - Need to do transform instead of fit_transform\n",
    "type_encoded = pd.DataFrame(data=ohe.transform(test['type'].array.reshape(-1,1)), columns=ohe.get_feature_names_out())\n",
    "\n",
    "#Grab the column names from the encoded data \n",
    "e_col = type_encoded.columns.tolist()\n",
    "\n",
    "#Convert each column to a boolean\n",
    "for col in e_col:\n",
    "    type_encoded[col] = type_encoded[col].astype('bool')\n",
    "    \n",
    "#Add columns to dataframe\n",
    "test = pd.concat([type_encoded,test],axis=1)\n",
    "\n",
    "#Drop type column\n",
    "test.drop('type',axis=1,inplace=True)"
   ]
  },
  {
   "cell_type": "code",
   "execution_count": 14,
   "id": "84b5e2ee",
   "metadata": {},
   "outputs": [],
   "source": [
    "#Create the function that transforms the name column into the two columns that we need\n",
    "\n",
    "def name_transform(df, colname, new_colname1, new_colname2):\n",
    "    #grab the column from the dataframe\n",
    "    name_df = df[colname].tolist()\n",
    "    \n",
    "    #Grab first letter of each entry\n",
    "    name_first = [i[0] for i in name_df]\n",
    "    \n",
    "    #Grab the ID #\n",
    "    name_ID = [i[1:] for i in name_df]\n",
    "    \n",
    "    #Put into df\n",
    "    df['dummy_var'] = name_ID\n",
    "    \n",
    "    #Create new list\n",
    "    #1 if 'C' & '0' if M\n",
    "    first_bool = [1 if i=='C' else 0 for i in name_first]\n",
    "    \n",
    "    #Add the boolean list to the original dataframe\n",
    "    df[new_colname1] = first_bool\n",
    "    df[new_colname1] = df[new_colname1].astype('bool')\n",
    "    \n",
    "    #Create a pivot table of the IDs and grabt he ID#s\n",
    "    name_pt = df['dummy_var'].value_counts()\n",
    "    name_ptID = name_pt.index\n",
    "    \n",
    "    #Grab all the repeat IDs \n",
    "    name_repeat = name_pt[name_pt>1]\n",
    "    ID_repeat = name_repeat.index\n",
    "    \n",
    "    #Loop and assign 0 if the ID repeats and 1 if the ID doesn't\n",
    "    ID_bool = []\n",
    "    for i in name_ID:\n",
    "        if i in ID_repeat:\n",
    "            ID_bool.append(0)\n",
    "        else:\n",
    "            ID_bool.append(1)\n",
    "    \n",
    "    #Add the ID_bool to the dataframe\n",
    "    df[new_colname2] = ID_bool\n",
    "    df[new_colname2] = df[new_colname2].astype('bool')\n",
    "    \n",
    "    #Drop the old column\n",
    "    df.drop(colname,axis=1,inplace=True)\n",
    "    df.drop('dummy_var',axis=1,inplace=True)\n",
    "    \n",
    "    return df"
   ]
  },
  {
   "cell_type": "code",
   "execution_count": 15,
   "id": "ce7cfe7c",
   "metadata": {},
   "outputs": [
    {
     "data": {
      "text/html": [
       "<div>\n",
       "<style scoped>\n",
       "    .dataframe tbody tr th:only-of-type {\n",
       "        vertical-align: middle;\n",
       "    }\n",
       "\n",
       "    .dataframe tbody tr th {\n",
       "        vertical-align: top;\n",
       "    }\n",
       "\n",
       "    .dataframe thead th {\n",
       "        text-align: right;\n",
       "    }\n",
       "</style>\n",
       "<table border=\"1\" class=\"dataframe\">\n",
       "  <thead>\n",
       "    <tr style=\"text-align: right;\">\n",
       "      <th></th>\n",
       "      <th>x0_CASH_OUT</th>\n",
       "      <th>x0_DEBIT</th>\n",
       "      <th>x0_PAYMENT</th>\n",
       "      <th>x0_TRANSFER</th>\n",
       "      <th>NO_ID_unique</th>\n",
       "      <th>ND_ID_unique</th>\n",
       "      <th>ClientOrig</th>\n",
       "      <th>ClientDest</th>\n",
       "      <th>amount_4root</th>\n",
       "      <th>oldbalanceOrig_4root</th>\n",
       "      <th>newbalanceOrig_4root</th>\n",
       "      <th>oldbalanceDest_4root</th>\n",
       "      <th>newbalanceDest_4root</th>\n",
       "    </tr>\n",
       "  </thead>\n",
       "  <tbody>\n",
       "    <tr>\n",
       "      <th>0</th>\n",
       "      <td>False</td>\n",
       "      <td>False</td>\n",
       "      <td>True</td>\n",
       "      <td>False</td>\n",
       "      <td>True</td>\n",
       "      <td>True</td>\n",
       "      <td>True</td>\n",
       "      <td>False</td>\n",
       "      <td>5.881439</td>\n",
       "      <td>10.416504</td>\n",
       "      <td>10.141103</td>\n",
       "      <td>0.000000</td>\n",
       "      <td>0.000000</td>\n",
       "    </tr>\n",
       "    <tr>\n",
       "      <th>1</th>\n",
       "      <td>False</td>\n",
       "      <td>False</td>\n",
       "      <td>True</td>\n",
       "      <td>False</td>\n",
       "      <td>True</td>\n",
       "      <td>True</td>\n",
       "      <td>True</td>\n",
       "      <td>False</td>\n",
       "      <td>11.579458</td>\n",
       "      <td>15.127828</td>\n",
       "      <td>13.618269</td>\n",
       "      <td>0.000000</td>\n",
       "      <td>0.000000</td>\n",
       "    </tr>\n",
       "    <tr>\n",
       "      <th>2</th>\n",
       "      <td>True</td>\n",
       "      <td>False</td>\n",
       "      <td>False</td>\n",
       "      <td>False</td>\n",
       "      <td>True</td>\n",
       "      <td>False</td>\n",
       "      <td>True</td>\n",
       "      <td>True</td>\n",
       "      <td>14.637209</td>\n",
       "      <td>4.297230</td>\n",
       "      <td>0.000000</td>\n",
       "      <td>37.585766</td>\n",
       "      <td>37.800051</td>\n",
       "    </tr>\n",
       "    <tr>\n",
       "      <th>3</th>\n",
       "      <td>True</td>\n",
       "      <td>False</td>\n",
       "      <td>False</td>\n",
       "      <td>False</td>\n",
       "      <td>True</td>\n",
       "      <td>True</td>\n",
       "      <td>True</td>\n",
       "      <td>True</td>\n",
       "      <td>18.783818</td>\n",
       "      <td>17.944142</td>\n",
       "      <td>0.000000</td>\n",
       "      <td>21.300887</td>\n",
       "      <td>23.974336</td>\n",
       "    </tr>\n",
       "    <tr>\n",
       "      <th>4</th>\n",
       "      <td>True</td>\n",
       "      <td>False</td>\n",
       "      <td>False</td>\n",
       "      <td>False</td>\n",
       "      <td>True</td>\n",
       "      <td>True</td>\n",
       "      <td>True</td>\n",
       "      <td>True</td>\n",
       "      <td>21.072258</td>\n",
       "      <td>0.000000</td>\n",
       "      <td>0.000000</td>\n",
       "      <td>25.111760</td>\n",
       "      <td>27.771411</td>\n",
       "    </tr>\n",
       "  </tbody>\n",
       "</table>\n",
       "</div>"
      ],
      "text/plain": [
       "   x0_CASH_OUT  x0_DEBIT  x0_PAYMENT  x0_TRANSFER  NO_ID_unique  ND_ID_unique  \\\n",
       "0        False     False        True        False          True          True   \n",
       "1        False     False        True        False          True          True   \n",
       "2         True     False       False        False          True         False   \n",
       "3         True     False       False        False          True          True   \n",
       "4         True     False       False        False          True          True   \n",
       "\n",
       "   ClientOrig  ClientDest  amount_4root  oldbalanceOrig_4root  \\\n",
       "0        True       False      5.881439             10.416504   \n",
       "1        True       False     11.579458             15.127828   \n",
       "2        True        True     14.637209              4.297230   \n",
       "3        True        True     18.783818             17.944142   \n",
       "4        True        True     21.072258              0.000000   \n",
       "\n",
       "   newbalanceOrig_4root  oldbalanceDest_4root  newbalanceDest_4root  \n",
       "0             10.141103              0.000000              0.000000  \n",
       "1             13.618269              0.000000              0.000000  \n",
       "2              0.000000             37.585766             37.800051  \n",
       "3              0.000000             21.300887             23.974336  \n",
       "4              0.000000             25.111760             27.771411  "
      ]
     },
     "execution_count": 15,
     "metadata": {},
     "output_type": "execute_result"
    }
   ],
   "source": [
    "#nameOrig\n",
    "test = name_transform(test,'nameOrig','ClientOrig','NO_ID_unique')\n",
    "#nameDest\n",
    "test = name_transform(test,'nameDest','ClientDest','ND_ID_unique')\n",
    "\n",
    "#Need to reorganize the column names so they match final_col_order\n",
    "test = test[final_col_order]\n",
    "test.head()"
   ]
  },
  {
   "cell_type": "code",
   "execution_count": 16,
   "id": "80b45fd5",
   "metadata": {},
   "outputs": [],
   "source": [
    "#SAVE TESTING DATA SO WE DON'T HAVE TO RE-RUN ABOVE!\n",
    "pickle_list = [test,test_y] #Two training datasets, plus the test data\n",
    "f = open('FinalTestData.pckl','wb')\n",
    "pickle.dump(pickle_list,f)\n",
    "f.close()"
   ]
  },
  {
   "cell_type": "markdown",
   "id": "a391461b",
   "metadata": {},
   "source": [
    "### STEP 3 TESTING THE MODELS\n",
    "!!! RUN FROM HERE !!!"
   ]
  },
  {
   "cell_type": "code",
   "execution_count": null,
   "id": "c359b5e6",
   "metadata": {},
   "outputs": [],
   "source": [
    "#IMPORT THE TESTING DATA\n",
    "f = open('FinalTestData.pckl','rb')\n",
    "pickle_list1 = pickle.load(f)\n",
    "f.close()\n",
    "\n",
    "test = pickle_list1[0]\n",
    "test_y = pickle_list1[1]\n",
    "\n",
    "\n",
    "#IMPORT THE MODELS\n",
    "f = open('FinalModels.pckl','rb')\n",
    "pickle_list2 = pickle.load(f)\n",
    "f.close()\n",
    "\n",
    "fmodel_tomek = pickle_list2[0]\n",
    "fmodel_rus = pickle_list2[1]"
   ]
  },
  {
   "cell_type": "markdown",
   "id": "9b8d9b73",
   "metadata": {},
   "source": [
    "#### TOMEK MODEL"
   ]
  },
  {
   "cell_type": "code",
   "execution_count": 17,
   "id": "a9a19189",
   "metadata": {},
   "outputs": [
    {
     "name": "stdout",
     "output_type": "stream",
     "text": [
      "Recall of Final Tomek Model: 1.0\n",
      "F1 Score of Final Tomek Model: 0.005\n",
      "Balanced Accuracy Score of Final Tomek Model: 0.73\n"
     ]
    }
   ],
   "source": [
    "test_pred = fmodel_tomek.predict(test)\n",
    "\n",
    "recall_test1 = round(recall_score(test_y, test_pred),3)\n",
    "f1_test1 = round(f1_score(y_true=test_y, y_pred=test_pred),3)\n",
    "bacc_test1 = round(balanced_accuracy_score(test_y, y_pred=test_pred),3)\n",
    "\n",
    "print(\"Recall of Final Tomek Model: {}\".format(recall_test1))\n",
    "print(\"F1 Score of Final Tomek Model: {}\".format(f1_test1))\n",
    "print('Balanced Accuracy Score of Final Tomek Model: {}'.format(bacc_test1))"
   ]
  },
  {
   "cell_type": "code",
   "execution_count": 20,
   "id": "95ecee13",
   "metadata": {},
   "outputs": [
    {
     "data": {
      "text/plain": [
       "<sklearn.metrics._plot.confusion_matrix.ConfusionMatrixDisplay at 0x7fae341091d0>"
      ]
     },
     "execution_count": 20,
     "metadata": {},
     "output_type": "execute_result"
    },
    {
     "data": {
      "image/png": "[encoded data removed]",
      "text/plain": [
       "<Figure size 432x288 with 2 Axes>"
      ]
     },
     "metadata": {
      "needs_background": "light"
     },
     "output_type": "display_data"
    }
   ],
   "source": [
    "#Confusion Matrix\n",
    "ConfusionMatrixDisplay.from_estimator(fmodel_tomek, test, test_y)"
   ]
  },
  {
   "cell_type": "markdown",
   "id": "7ca59f04",
   "metadata": {},
   "source": [
    "#### TOMEK + RUS MODEL"
   ]
  },
  {
   "cell_type": "code",
   "execution_count": 21,
   "id": "53702823",
   "metadata": {},
   "outputs": [
    {
     "name": "stdout",
     "output_type": "stream",
     "text": [
      "Recall of Final Tomek+RUS Model: 1.0\n",
      "F1 Score of Final Tomek+RUS Model: 0.003\n",
      "Balanced Accuracy Score of Final Tomek+RUS Model: 0.5\n"
     ]
    }
   ],
   "source": [
    "test_pred2 = fmodel_rus.predict(test)\n",
    "\n",
    "recall_test2 = round(recall_score(test_y,test_pred2),3)\n",
    "f1_test2 = round(f1_score(y_true=test_y,y_pred=test_pred2),3)\n",
    "bacc_test2 = round(balanced_accuracy_score(test_y,y_pred=test_pred2),3)\n",
    "\n",
    "print(\"Recall of Final Tomek+RUS Model: {}\".format(recall_test2))\n",
    "print(\"F1 Score of Final Tomek+RUS Model: {}\".format(f1_test2))\n",
    "print('Balanced Accuracy Score of Final Tomek+RUS Model: {}'.format(bacc_test2))"
   ]
  },
  {
   "cell_type": "code",
   "execution_count": 22,
   "id": "f8386352",
   "metadata": {},
   "outputs": [
    {
     "data": {
      "text/plain": [
       "<sklearn.metrics._plot.confusion_matrix.ConfusionMatrixDisplay at 0x7fae33b24d50>"
      ]
     },
     "execution_count": 22,
     "metadata": {},
     "output_type": "execute_result"
    },
    {
     "data": {
      "image/png": "[encoded data removed]",
      "text/plain": [
       "<Figure size 432x288 with 2 Axes>"
      ]
     },
     "metadata": {
      "needs_background": "light"
     },
     "output_type": "display_data"
    }
   ],
   "source": [
    "#Confusion Matrix\n",
    "ConfusionMatrixDisplay.from_estimator(fmodel_rus, test, test_y)"
   ]
  },
  {
   "cell_type": "code",
   "execution_count": null,
   "id": "1a04d728",
   "metadata": {},
   "outputs": [],
   "source": []
  }
 ],
 "metadata": {
  "kernelspec": {
   "display_name": "Python 3 (ipykernel)",
   "language": "python",
   "name": "python3"
  },
  "language_info": {
   "codemirror_mode": {
    "name": "ipython",
    "version": 3
   },
   "file_extension": ".py",
   "mimetype": "text/x-python",
   "name": "python",
   "nbconvert_exporter": "python",
   "pygments_lexer": "ipython3",
   "version": "3.7.4"
  }
 },
 "nbformat": 4,
 "nbformat_minor": 5
}
