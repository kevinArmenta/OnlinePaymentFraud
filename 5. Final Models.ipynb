{
 "cells": [
  {
   "cell_type": "code",
   "execution_count": 1,
   "id": "83b682f2",
   "metadata": {},
   "outputs": [],
   "source": [
    "#Import packages\n",
    "import os #Allows us to get operating system information in python.\n",
    "#In artemis video, he did not import os package\n",
    "\n",
    "#Data Handling\n",
    "import pandas as pd, numpy as np\n",
    "\n",
    "#Time\n",
    "import time\n",
    "\n",
    "#Plotting\n",
    "import matplotlib.pyplot as plt, seaborn as sns, scipy.stats, pylab\n",
    "\n",
    "#Saving data\n",
    "import pickle\n",
    "\n",
    "#train and test split\n",
    "from sklearn.model_selection import train_test_split\n",
    "\n",
    "#Scalers\n",
    "from sklearn import preprocessing\n",
    "\n",
    "#TomekLinks and RandomUnderSampler\n",
    "from imblearn.under_sampling import TomekLinks, RandomUnderSampler\n",
    "\n",
    "#Hyperparameter optimization\n",
    "import optuna\n",
    "\n",
    "#Metrics\n",
    "from sklearn.metrics import f1_score, balanced_accuracy_score, recall_score, roc_auc_score\n",
    "\n",
    "#General Management\n",
    "import gc as gc\n",
    "gc.enable()\n",
    "from joblib import dump, load\n",
    "from warnings import filterwarnings\n",
    "\n",
    "#Notebook configurations\n",
    "filterwarnings('ignore')"
   ]
  },
  {
   "cell_type": "code",
   "execution_count": 2,
   "id": "adff2695",
   "metadata": {},
   "outputs": [],
   "source": [
    "#FINAL MODELS \n",
    "from sklearn.ensemble import RandomForestClassifier\n",
    "from sklearn.naive_bayes import GaussianNB"
   ]
  },
  {
   "cell_type": "code",
   "execution_count": 4,
   "id": "89e0240f",
   "metadata": {},
   "outputs": [],
   "source": [
    "#IMPORT ORIGINAL DATA\n",
    "f = open('CCF_ProcessedData.pckl','rb')\n",
    "pickle_list = pickle.load(f)\n",
    "f.close()\n",
    "\n",
    "tomek_modeling_data = pickle_list[0]\n",
    "y = pickle_list[1]\n",
    "rus_tomek_modeling_data = pickle_list[2]\n",
    "y2 = pickle_list[3]\n",
    "test = pickle_list[4] #The most important variable we are importing in this script"
   ]
  },
  {
   "cell_type": "code",
   "execution_count": 3,
   "id": "e5e609a3",
   "metadata": {},
   "outputs": [],
   "source": [
    "#IMPORT THE DATA THAT WE WILL USE TO TRAIN FINAL MODELS BEFORE TESTING ON TEST DATA\n",
    "def get_tomek_data():\n",
    "    f = open('tomek_data.pckl','rb')\n",
    "    data = pickle.load(f)\n",
    "    f.close()\n",
    "    return data\n",
    "\n",
    "def get_rus_data():\n",
    "    f = open('rus_data.pckl','rb')\n",
    "    data = pickle.load(f)\n",
    "    f.close()\n",
    "    return data"
   ]
  },
  {
   "cell_type": "markdown",
   "id": "3e5fddc5",
   "metadata": {},
   "source": [
    "### FINAL MODEL FOR TOMEK DATA \n",
    "Gaussian Naïve Bayes with varsmoothing = 9.125860889745052 * (10**-9)"
   ]
  },
  {
   "cell_type": "code",
   "execution_count": 5,
   "id": "1dc27248",
   "metadata": {},
   "outputs": [],
   "source": [
    "tomek_data = get_tomek_data() #import tomek data that's been split up into train and dev sets\n",
    "tomek_X_train = tomek_data[0]\n",
    "tomek_X_dev = tomek_data[1]\n",
    "tomek_y_train = tomek_data[2]\n",
    "tomek_y_dev = tomek_data[3]\n",
    "\n",
    "#Get the final model ready\n",
    "vs_final = 9.125860889745052 * (10**-9)\n",
    "fmodel_tomek = GaussianNB(var_smoothing=vs_final)"
   ]
  },
  {
   "cell_type": "code",
   "execution_count": 6,
   "id": "fe2205d5",
   "metadata": {},
   "outputs": [
    {
     "data": {
      "text/plain": [
       "GaussianNB(var_smoothing=9.125860889745052e-09)"
      ]
     },
     "execution_count": 6,
     "metadata": {},
     "output_type": "execute_result"
    }
   ],
   "source": [
    "fmodel_tomek.fit(tomek_X_train,tomek_y_train)"
   ]
  },
  {
   "cell_type": "code",
   "execution_count": 8,
   "id": "f8819f89",
   "metadata": {},
   "outputs": [
    {
     "name": "stdout",
     "output_type": "stream",
     "text": [
      "Recall of Final Tomek Model: 0.998\n",
      "F1 Score of Final Tomek Model: 0.005\n"
     ]
    }
   ],
   "source": [
    "#f1 = round(f1_score(y_true=test_classes, y_pred=predict, pos_label=1), 3)\n",
    "#bal_acc = round(balanced_accuracy_score(test_classes, predict), 3)\n",
    "#recall = round(recall_score(test_classes, predict, pos_label=1), 3)\n",
    "\n",
    "recall_tomek = round(recall_score(tomek_y_dev,fmodel_tomek.predict(tomek_X_dev)),3)\n",
    "f1_tomek = round(f1_score(y_true=tomek_y_dev, y_pred=fmodel_tomek.predict(tomek_X_dev)),3)\n",
    "\n",
    "print(\"Recall of Final Tomek Model: {}\".format(recall_tomek))\n",
    "print(\"F1 Score of Final Tomek Model: {}\".format(f1_tomek))"
   ]
  },
  {
   "cell_type": "markdown",
   "id": "2ddd538f",
   "metadata": {},
   "source": [
    "### FINAL MODEL FOR TOMEK+RUS DATA \n",
    "Random Forest Classifier with the following parameters:\n",
    " 'rfc_num_exp': 3,\n",
    " 'rfc_num_base': 9.8410100557842,\n",
    " 'rfc_maxdepth': 5,\n",
    " 'rfc_ml_exp': 3,\n",
    " 'rfc_ml_base': 9.56629896082272,\n",
    " 'rfc_bootstrap': True,\n",
    " 'rfc_maxsamples': 0.9767807421240824"
   ]
  },
  {
   "cell_type": "code",
   "execution_count": 12,
   "id": "d55e09af",
   "metadata": {},
   "outputs": [],
   "source": [
    "rus_data = get_rus_data() #import tomek+rus data that's been split up into train and dev sets\n",
    "rus_X_train = rus_data[0]\n",
    "rus_X_dev = rus_data[1]\n",
    "rus_y_train = rus_data[2]\n",
    "rus_y_dev = rus_data[3]\n",
    "\n",
    "#FINAL VALUES\n",
    "rfc_num = 9841\n",
    "rfc_maxdepth = 5\n",
    "rfc_minleaf = 9566\n",
    "rfc_bootstrap = True\n",
    "rfc_maxsamples = 0.9767807421240824\n",
    "\n",
    "fmodel_rus = RandomForestClassifier(n_estimators=rfc_num, max_depth=rfc_maxdepth,\n",
    "                                   min_samples_leaf=rfc_minleaf, bootstrap=rfc_bootstrap,\n",
    "                                   max_samples=rfc_maxsamples, random_state=10)"
   ]
  },
  {
   "cell_type": "code",
   "execution_count": 13,
   "id": "dd32e174",
   "metadata": {},
   "outputs": [
    {
     "data": {
      "text/plain": [
       "RandomForestClassifier(max_depth=5, max_samples=0.9767807421240824,\n",
       "                       min_samples_leaf=9566, n_estimators=9841,\n",
       "                       random_state=10)"
      ]
     },
     "execution_count": 13,
     "metadata": {},
     "output_type": "execute_result"
    }
   ],
   "source": [
    "fmodel_rus.fit(rus_X_train,rus_y_train)"
   ]
  },
  {
   "cell_type": "code",
   "execution_count": 15,
   "id": "e62a2776",
   "metadata": {},
   "outputs": [
    {
     "name": "stdout",
     "output_type": "stream",
     "text": [
      "Recall of Final Tomek+RUS Model: 1.0\n",
      "F1 Score of Final Tomek+RUS Model: 0.667\n"
     ]
    }
   ],
   "source": [
    "recall_rus = round(recall_score(rus_y_dev,fmodel_rus.predict(rus_X_dev)),3)\n",
    "f1_rus = round(f1_score(y_true=rus_y_dev, y_pred=fmodel_rus.predict(rus_X_dev)),3)\n",
    "\n",
    "print(\"Recall of Final Tomek+RUS Model: {}\".format(recall_rus))\n",
    "print(\"F1 Score of Final Tomek+RUS Model: {}\".format(f1_rus))"
   ]
  },
  {
   "cell_type": "code",
   "execution_count": null,
   "id": "c9e4e9bd",
   "metadata": {},
   "outputs": [],
   "source": []
  }
 ],
 "metadata": {
  "kernelspec": {
   "display_name": "Python 3 (ipykernel)",
   "language": "python",
   "name": "python3"
  },
  "language_info": {
   "codemirror_mode": {
    "name": "ipython",
    "version": 3
   },
   "file_extension": ".py",
   "mimetype": "text/x-python",
   "name": "python",
   "nbconvert_exporter": "python",
   "pygments_lexer": "ipython3",
   "version": "3.7.4"
  }
 },
 "nbformat": 4,
 "nbformat_minor": 5
}
